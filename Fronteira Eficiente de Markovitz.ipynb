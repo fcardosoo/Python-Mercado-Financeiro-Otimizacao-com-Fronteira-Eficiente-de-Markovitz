{
 "cells": [
  {
   "cell_type": "markdown",
   "id": "9ff1a519",
   "metadata": {},
   "source": [
    "# Fronteira eficiente de Markovitz\n",
    "\n",
    "Harry Markovitz criou em 1952 uma teoria de análise do risco de uma carteira de investimento. O objetivo do modelo é criar um portfólio que otimiza o risco-retorno dos investimentos disponíveis, escolhendo os pesos ideais para cada ativo na carteira."
   ]
  },
  {
   "cell_type": "markdown",
   "id": "fb81bf59",
   "metadata": {},
   "source": [
    "## 1.0 Bibliotecas"
   ]
  },
  {
   "cell_type": "code",
   "execution_count": 3,
   "id": "d5614615",
   "metadata": {},
   "outputs": [],
   "source": [
    "import numpy                as np\n",
    "import datetime             as dt\n",
    "import pandas               as pd\n",
    "import matplotlib.pyplot    as plt\n",
    "import matplotlib.ticker    as mtick\n",
    "\n",
    "from scipy.optimize         import minimize\n",
    "from pandas_datareader      import data as pdr"
   ]
  },
  {
   "cell_type": "markdown",
   "id": "9db05740",
   "metadata": {},
   "source": [
    "# 2. Período de Análise"
   ]
  },
  {
   "cell_type": "code",
   "execution_count": null,
   "id": "b48daf60",
   "metadata": {},
   "outputs": [],
   "source": [
    "inicio = dt.date(2015, 1, 1)\n",
    "fim = dt.date(2023, 4, 30)"
   ]
  }
 ],
 "metadata": {
  "kernelspec": {
   "display_name": "Python 3 (ipykernel)",
   "language": "python",
   "name": "python3"
  },
  "language_info": {
   "codemirror_mode": {
    "name": "ipython",
    "version": 3
   },
   "file_extension": ".py",
   "mimetype": "text/x-python",
   "name": "python",
   "nbconvert_exporter": "python",
   "pygments_lexer": "ipython3",
   "version": "3.10.9"
  }
 },
 "nbformat": 4,
 "nbformat_minor": 5
}
