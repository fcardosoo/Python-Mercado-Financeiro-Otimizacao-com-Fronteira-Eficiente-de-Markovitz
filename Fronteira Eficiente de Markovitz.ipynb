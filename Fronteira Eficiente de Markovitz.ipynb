{
 "cells": [
  {
   "cell_type": "markdown",
   "id": "403043ed",
   "metadata": {},
   "source": [
    "# Fronteira eficiente de Markovitz\n",
    "\n",
    "Harry Markovitz criou em 1952 uma teoria de análise do risco de uma carteira de investimento. O objetivo do modelo é criar um portfólio que otimiza o risco-retorno dos investimentos disponíveis, escolhendo os pesos ideais para cada ativo na carteira."
   ]
  },
  {
   "cell_type": "markdown",
   "id": "f127bda1",
   "metadata": {},
   "source": [
    "## 1.0 Bibliotecas"
   ]
  },
  {
   "cell_type": "code",
   "execution_count": 13,
   "id": "5afc49fc",
   "metadata": {},
   "outputs": [],
   "source": [
    "import numpy                as np\n",
    "import datetime             as dt\n",
    "import pandas               as pd\n",
    "import matplotlib.pyplot    as plt\n",
    "import matplotlib.ticker    as mtick\n",
    "import yfinance             as yf\n",
    "\n",
    "from scipy.optimize         import minimize"
   ]
  },
  {
   "cell_type": "markdown",
   "id": "27b2042f",
   "metadata": {},
   "source": [
    "# 2. Período de Análise"
   ]
  },
  {
   "cell_type": "code",
   "execution_count": 14,
   "id": "ee6c9059",
   "metadata": {},
   "outputs": [],
   "source": [
    "inicio = dt.date(2015, 1, 1)\n",
    "fim = dt.date.now()"
   ]
  },
  {
   "cell_type": "markdown",
   "id": "744add85",
   "metadata": {},
   "source": [
    "# 3. Ativos de Interesse"
   ]
  },
  {
   "cell_type": "code",
   "execution_count": 16,
   "id": "9dd4bc1e",
   "metadata": {},
   "outputs": [
    {
     "name": "stdout",
     "output_type": "stream",
     "text": [
      "[*********************100%***********************]  7 of 7 completed\n"
     ]
    },
    {
     "data": {
      "text/html": [
       "<div>\n",
       "<style scoped>\n",
       "    .dataframe tbody tr th:only-of-type {\n",
       "        vertical-align: middle;\n",
       "    }\n",
       "\n",
       "    .dataframe tbody tr th {\n",
       "        vertical-align: top;\n",
       "    }\n",
       "\n",
       "    .dataframe thead th {\n",
       "        text-align: right;\n",
       "    }\n",
       "</style>\n",
       "<table border=\"1\" class=\"dataframe\">\n",
       "  <thead>\n",
       "    <tr style=\"text-align: right;\">\n",
       "      <th></th>\n",
       "      <th>BBAS3.SA</th>\n",
       "      <th>BBSE3.SA</th>\n",
       "      <th>EGIE3.SA</th>\n",
       "      <th>LREN3.SA</th>\n",
       "      <th>PETR4.SA</th>\n",
       "      <th>VALE3.SA</th>\n",
       "      <th>WEGE3.SA</th>\n",
       "    </tr>\n",
       "    <tr>\n",
       "      <th>Date</th>\n",
       "      <th></th>\n",
       "      <th></th>\n",
       "      <th></th>\n",
       "      <th></th>\n",
       "      <th></th>\n",
       "      <th></th>\n",
       "      <th></th>\n",
       "    </tr>\n",
       "  </thead>\n",
       "  <tbody>\n",
       "    <tr>\n",
       "      <th>2015-01-02</th>\n",
       "      <td>13.836073</td>\n",
       "      <td>16.213976</td>\n",
       "      <td>14.667062</td>\n",
       "      <td>10.702312</td>\n",
       "      <td>3.670934</td>\n",
       "      <td>13.109157</td>\n",
       "      <td>5.124121</td>\n",
       "    </tr>\n",
       "    <tr>\n",
       "      <th>2015-01-05</th>\n",
       "      <td>13.548966</td>\n",
       "      <td>15.727821</td>\n",
       "      <td>14.685057</td>\n",
       "      <td>10.404791</td>\n",
       "      <td>3.357178</td>\n",
       "      <td>12.912024</td>\n",
       "      <td>5.159060</td>\n",
       "    </tr>\n",
       "    <tr>\n",
       "      <th>2015-01-06</th>\n",
       "      <td>13.738334</td>\n",
       "      <td>16.395613</td>\n",
       "      <td>14.981904</td>\n",
       "      <td>10.524643</td>\n",
       "      <td>3.247364</td>\n",
       "      <td>13.429490</td>\n",
       "      <td>5.082530</td>\n",
       "    </tr>\n",
       "    <tr>\n",
       "      <th>2015-01-07</th>\n",
       "      <td>14.343088</td>\n",
       "      <td>16.133842</td>\n",
       "      <td>15.359713</td>\n",
       "      <td>10.703722</td>\n",
       "      <td>3.400320</td>\n",
       "      <td>13.922319</td>\n",
       "      <td>5.024302</td>\n",
       "    </tr>\n",
       "    <tr>\n",
       "      <th>2015-01-08</th>\n",
       "      <td>14.391961</td>\n",
       "      <td>16.085760</td>\n",
       "      <td>15.517129</td>\n",
       "      <td>10.716412</td>\n",
       "      <td>3.619948</td>\n",
       "      <td>14.070166</td>\n",
       "      <td>5.109150</td>\n",
       "    </tr>\n",
       "    <tr>\n",
       "      <th>...</th>\n",
       "      <td>...</td>\n",
       "      <td>...</td>\n",
       "      <td>...</td>\n",
       "      <td>...</td>\n",
       "      <td>...</td>\n",
       "      <td>...</td>\n",
       "      <td>...</td>\n",
       "    </tr>\n",
       "    <tr>\n",
       "      <th>2023-04-24</th>\n",
       "      <td>43.419998</td>\n",
       "      <td>34.549999</td>\n",
       "      <td>39.479752</td>\n",
       "      <td>15.100000</td>\n",
       "      <td>24.208529</td>\n",
       "      <td>71.959999</td>\n",
       "      <td>40.349998</td>\n",
       "    </tr>\n",
       "    <tr>\n",
       "      <th>2023-04-25</th>\n",
       "      <td>43.020000</td>\n",
       "      <td>34.750000</td>\n",
       "      <td>39.431808</td>\n",
       "      <td>14.770000</td>\n",
       "      <td>24.110626</td>\n",
       "      <td>70.000000</td>\n",
       "      <td>40.540001</td>\n",
       "    </tr>\n",
       "    <tr>\n",
       "      <th>2023-04-26</th>\n",
       "      <td>42.669998</td>\n",
       "      <td>34.770000</td>\n",
       "      <td>39.000282</td>\n",
       "      <td>14.980000</td>\n",
       "      <td>23.808020</td>\n",
       "      <td>70.269997</td>\n",
       "      <td>40.110001</td>\n",
       "    </tr>\n",
       "    <tr>\n",
       "      <th>2023-04-27</th>\n",
       "      <td>42.720001</td>\n",
       "      <td>34.360001</td>\n",
       "      <td>39.192070</td>\n",
       "      <td>15.010000</td>\n",
       "      <td>23.229507</td>\n",
       "      <td>71.760002</td>\n",
       "      <td>40.349998</td>\n",
       "    </tr>\n",
       "    <tr>\n",
       "      <th>2023-04-28</th>\n",
       "      <td>42.860001</td>\n",
       "      <td>34.310001</td>\n",
       "      <td>39.537292</td>\n",
       "      <td>15.840000</td>\n",
       "      <td>23.700001</td>\n",
       "      <td>72.400002</td>\n",
       "      <td>41.119999</td>\n",
       "    </tr>\n",
       "  </tbody>\n",
       "</table>\n",
       "<p>2069 rows × 7 columns</p>\n",
       "</div>"
      ],
      "text/plain": [
       "             BBAS3.SA   BBSE3.SA   EGIE3.SA   LREN3.SA   PETR4.SA   VALE3.SA  \\\n",
       "Date                                                                           \n",
       "2015-01-02  13.836073  16.213976  14.667062  10.702312   3.670934  13.109157   \n",
       "2015-01-05  13.548966  15.727821  14.685057  10.404791   3.357178  12.912024   \n",
       "2015-01-06  13.738334  16.395613  14.981904  10.524643   3.247364  13.429490   \n",
       "2015-01-07  14.343088  16.133842  15.359713  10.703722   3.400320  13.922319   \n",
       "2015-01-08  14.391961  16.085760  15.517129  10.716412   3.619948  14.070166   \n",
       "...               ...        ...        ...        ...        ...        ...   \n",
       "2023-04-24  43.419998  34.549999  39.479752  15.100000  24.208529  71.959999   \n",
       "2023-04-25  43.020000  34.750000  39.431808  14.770000  24.110626  70.000000   \n",
       "2023-04-26  42.669998  34.770000  39.000282  14.980000  23.808020  70.269997   \n",
       "2023-04-27  42.720001  34.360001  39.192070  15.010000  23.229507  71.760002   \n",
       "2023-04-28  42.860001  34.310001  39.537292  15.840000  23.700001  72.400002   \n",
       "\n",
       "             WEGE3.SA  \n",
       "Date                   \n",
       "2015-01-02   5.124121  \n",
       "2015-01-05   5.159060  \n",
       "2015-01-06   5.082530  \n",
       "2015-01-07   5.024302  \n",
       "2015-01-08   5.109150  \n",
       "...               ...  \n",
       "2023-04-24  40.349998  \n",
       "2023-04-25  40.540001  \n",
       "2023-04-26  40.110001  \n",
       "2023-04-27  40.349998  \n",
       "2023-04-28  41.119999  \n",
       "\n",
       "[2069 rows x 7 columns]"
      ]
     },
     "execution_count": 16,
     "metadata": {},
     "output_type": "execute_result"
    }
   ],
   "source": [
    "lista_acoes = ['BBAS3', 'BBSE3', 'WEGE3', 'LREN3', 'VALE3', 'PETR4', 'EGIE3']\n",
    "lista_acoes = [acao + '.SA' for acao in lista_acoes]\n",
    "\n",
    "precos = yf.download(lista_acoes, inicio, fim)['Adj Close']\n",
    "precos"
   ]
  },
  {
   "cell_type": "markdown",
   "id": "f675b93d",
   "metadata": {},
   "source": [
    "# 4. Calculando o retorno da carteira"
   ]
  },
  {
   "cell_type": "code",
   "execution_count": 18,
   "id": "50204c20",
   "metadata": {},
   "outputs": [],
   "source": [
    "retornos = precos.pct_change().apply(lambda x: np.log(1+x)).dropna() # Calcular o retorno logaritmo\n",
    "media_retornos = retornos.mean()\n",
    "matriz_cov = retornos.cov()"
   ]
  },
  {
   "cell_type": "code",
   "execution_count": 21,
   "id": "47657143",
   "metadata": {},
   "outputs": [],
   "source": [
    "numero_carteiras = 100000\n",
    "tabela_retornos_esperados = np.zeros(numero_carteiras)\n",
    "tabela_volatilidades_esperadas = np.zeros(numero_carteiras)\n",
    "tabela_sharpe = np.zeros(numero_carteiras)\n",
    "tabela_pesos = np.zeros((numero_carteiras, len(lista_acoes)))\n",
    "\n",
    "for k in range(numero_carteiras):\n",
    "    pesos = np.random.random(len(lista_acoes))\n",
    "    pesos = pesos / np.sum(pesos)\n",
    "    tabela_pesos[k, :] = pesos\n",
    "    \n",
    "    tabela_retornos_esperados[k] = np.sum(media_retornos * pesos * 252)\n",
    "    tabela_volatilidades_esperadas[k] = np.sqrt(np.dot(pesos.T, np.dot(matriz_cov*252, pesos)))\n",
    "    \n",
    "    tabela_sharpe[k] = tabela_retornos_esperados[k] / tabela_volatilidades_esperadas[k]"
   ]
  },
  {
   "cell_type": "code",
   "execution_count": 22,
   "id": "36f3ad3d",
   "metadata": {},
   "outputs": [
    {
     "data": {
      "text/plain": [
       "array([0.01416016, 0.05504952, 0.31572553, 0.01188852, 0.00487678,\n",
       "       0.13697378, 0.46132572])"
      ]
     },
     "execution_count": 22,
     "metadata": {},
     "output_type": "execute_result"
    }
   ],
   "source": [
    "indice_do_sharpe_maximo = tabela_sharpe.argmax()\n",
    "tabela_pesos[indice_do_sharpe_maximo]"
   ]
  },
  {
   "cell_type": "code",
   "execution_count": 23,
   "id": "1d698d99",
   "metadata": {},
   "outputs": [],
   "source": [
    "tabela_retornos_esperados_arit = np.exp(tabela_retornos_esperados) - 1"
   ]
  },
  {
   "cell_type": "code",
   "execution_count": null,
   "id": "d473d2c8",
   "metadata": {},
   "outputs": [],
   "source": [
    "eixo_y_fronteira_eficiente = np.lispace(tabela_retornos_esperados_arit.min(),)"
   ]
  }
 ],
 "metadata": {
  "kernelspec": {
   "display_name": "Python 3 (ipykernel)",
   "language": "python",
   "name": "python3"
  },
  "language_info": {
   "codemirror_mode": {
    "name": "ipython",
    "version": 3
   },
   "file_extension": ".py",
   "mimetype": "text/x-python",
   "name": "python",
   "nbconvert_exporter": "python",
   "pygments_lexer": "ipython3",
   "version": "3.10.9"
  }
 },
 "nbformat": 4,
 "nbformat_minor": 5
}
